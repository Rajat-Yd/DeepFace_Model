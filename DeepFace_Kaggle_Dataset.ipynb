{
  "metadata": {
    "colab": {
      "private_outputs": true,
      "provenance": [],
      "gpuType": "T4"
    },
    "kernelspec": {
      "name": "python3",
      "display_name": "Python 3",
      "language": "python"
    },
    "language_info": {
      "name": "python",
      "version": "3.10.13",
      "mimetype": "text/x-python",
      "codemirror_mode": {
        "name": "ipython",
        "version": 3
      },
      "pygments_lexer": "ipython3",
      "nbconvert_exporter": "python",
      "file_extension": ".py"
    },
    "accelerator": "GPU",
    "kaggle": {
      "accelerator": "none",
      "dataSources": [
        {
          "sourceId": 34595,
          "sourceType": "datasetVersion",
          "datasetId": 26922
        }
      ],
      "dockerImageVersionId": 30698,
      "isInternetEnabled": true,
      "language": "python",
      "sourceType": "notebook",
      "isGpuEnabled": false
    }
  },
  "nbformat_minor": 0,
  "nbformat": 4,
  "cells": [
    {
      "cell_type": "code",
      "source": [
        "!pip install deepface"
      ],
      "metadata": {
        "id": "lb-J-YIO2pQg",
        "execution": {
          "iopub.status.idle": "2024-05-25T16:34:42.43011Z",
          "shell.execute_reply.started": "2024-05-25T16:34:26.425201Z",
          "shell.execute_reply": "2024-05-25T16:34:42.428462Z"
        },
        "trusted": true
      },
      "execution_count": null,
      "outputs": []
    },
    {
      "cell_type": "code",
      "source": [
        "from deepface import DeepFace\n",
        "import cv2\n",
        "import matplotlib.pyplot as plt\n",
        "import os"
      ],
      "metadata": {
        "id": "oa43gwH72rwu",
        "execution": {
          "iopub.status.busy": "2024-05-25T16:35:01.044171Z",
          "iopub.execute_input": "2024-05-25T16:35:01.044646Z",
          "iopub.status.idle": "2024-05-25T16:35:01.051077Z",
          "shell.execute_reply.started": "2024-05-25T16:35:01.044609Z",
          "shell.execute_reply": "2024-05-25T16:35:01.049816Z"
        },
        "trusted": true
      },
      "execution_count": null,
      "outputs": []
    },
    {
      "cell_type": "code",
      "source": [
        "# Specify the dataset folder path\n",
        "dataset_folder = '/kaggle/input/lfw-dataset/lfw-deepfunneled/lfw-deepfunneled'\n",
        "main_folder_path_image = '/kaggle/input/lfw-dataset/lfw-deepfunneled/lfw-deepfunneled'"
      ],
      "metadata": {
        "id": "ZKylPQLh2wf0",
        "execution": {
          "iopub.status.busy": "2024-05-25T16:35:01.392157Z",
          "iopub.execute_input": "2024-05-25T16:35:01.392587Z",
          "iopub.status.idle": "2024-05-25T16:35:01.398065Z",
          "shell.execute_reply.started": "2024-05-25T16:35:01.392556Z",
          "shell.execute_reply": "2024-05-25T16:35:01.396671Z"
        },
        "trusted": true
      },
      "execution_count": null,
      "outputs": []
    },
    {
      "cell_type": "code",
      "source": [
        "# Initialize a dictionary to store the results\n",
        "results = {}"
      ],
      "metadata": {
        "id": "o5Kd-DX82zIw",
        "execution": {
          "iopub.status.busy": "2024-05-25T16:35:02.477057Z",
          "iopub.execute_input": "2024-05-25T16:35:02.477489Z",
          "iopub.status.idle": "2024-05-25T16:35:02.483349Z",
          "shell.execute_reply.started": "2024-05-25T16:35:02.477457Z",
          "shell.execute_reply": "2024-05-25T16:35:02.482125Z"
        },
        "trusted": true
      },
      "execution_count": null,
      "outputs": []
    },
    {
      "cell_type": "code",
      "source": [
        "# Get the main folder path from user input\n",
        "main_folder_path = input(\"Enter the path to the main folder: \")\n",
        "\n",
        "# Get the subfolder names to analyze from user input\n",
        "subfolder_names = input(\"Enter the names of the subfolders to analyze (separated by commas): \").split(',')\n",
        "\n",
        "# Remove leading and trailing whitespaces from the subfolder names\n",
        "subfolder_names = [name.strip() for name in subfolder_names]\n",
        "\n",
        "# Loop through the specified subfolders\n",
        "for subfolder_name in subfolder_names:\n",
        "    folder_path = os.path.join(main_folder_path, subfolder_name)\n",
        "\n",
        "    # Check if the folder exists and is a directory\n",
        "    if os.path.exists(folder_path) and os.path.isdir(folder_path):\n",
        "        print(f\"Processing folder {subfolder_name}...\")\n",
        "\n",
        "        # Loop through all the image files in the folder\n",
        "        for filename in os.listdir(folder_path):\n",
        "            if filename.endswith(\".jpg\") or filename.endswith(\".jpeg\") or filename.endswith(\".png\"):\n",
        "                # Construct the full path to the image file\n",
        "                image_path = os.path.join(folder_path, filename)\n",
        "\n",
        "                # Load the image\n",
        "                img = cv2.imread(image_path)\n",
        "                plt.imshow(img[:,:,::-1])\n",
        "                plt.title(\"Original Image\")\n",
        "                plt.show()\n",
        "\n",
        "                # Detect the face\n",
        "                face = DeepFace.detectFace(image_path, target_size = (224, 224), detector_backend='opencv')\n",
        "\n",
        "                if face is not None:\n",
        "                    face = face[0]\n",
        "                    plt.imshow(face)\n",
        "                    plt.title(\"Detected Face\")\n",
        "                    plt.show()\n",
        "\n",
        "                    # Analyze the face\n",
        "                    obj = DeepFace.analyze(image_path, enforce_detection=False)\n",
        "\n",
        "                    if obj is not None:\n",
        "                        emotion = obj[0]['dominant_emotion']\n",
        "                        age = obj[0]['age']\n",
        "                        race = obj[0]['race']\n",
        "\n",
        "                        print(f\"Image {filename}:\")\n",
        "                        print(f\"Race is {race}\")\n",
        "                        print(f\"Feelings: {emotion}\")\n",
        "                        print(f\"Age: {age} years old\")\n",
        "                        print(\"-------------------------------\")\n",
        "                    else:\n",
        "                        print(f\"Failed to analyze image {filename}.\")\n",
        "                else:\n",
        "                    print(f\"Failed to detect face in image {filename}.\")\n",
        "    else:\n",
        "        print(f\"Folder {subfolder_name} does not exist or is not a directory.\")"
      ],
      "metadata": {
        "execution": {
          "iopub.status.busy": "2024-05-25T16:49:45.076188Z",
          "iopub.execute_input": "2024-05-25T16:49:45.077178Z",
          "iopub.status.idle": "2024-05-25T16:50:06.972662Z",
          "shell.execute_reply.started": "2024-05-25T16:49:45.077134Z",
          "shell.execute_reply": "2024-05-25T16:50:06.971518Z"
        },
        "trusted": true,
        "id": "lOwVA-9yrRDZ"
      },
      "execution_count": null,
      "outputs": []
    },
    {
      "cell_type": "code",
      "source": [
        "\n",
        "Subfolders_name = \"\"\"\n",
        "AJ_Cook\n",
        "\n",
        "AJ_Lamas\n",
        "\n",
        "Aaron_Eckhart\n",
        "\n",
        "Aaron_Guiel\n",
        "\n",
        "Aaron_Patterson\n",
        "\n",
        "Aaron_Peirsol\n",
        "\n",
        "Aaron_Pena\n",
        "\n",
        "Aaron_Sorkin\n",
        "\n",
        "Aaron_Tippin\n",
        "\n",
        "Abba_Eban\n",
        "\n",
        "Abbas_Kiarostami\n",
        "\n",
        "Abdel_Aziz_Al-Hakim\n",
        "\n",
        "Abdel_Madi_Shabneh\n",
        "\n",
        "Abdel_Nasser_Assidi\n",
        "\n",
        "Abdoulaye_Wade\n",
        "\n",
        "Abdul_Majeed_Shobokshi\n",
        "\n",
        "Abdul_Rahman\n",
        "\n",
        "Abdulaziz_Kamilov\n",
        "\n",
        "Abdullah\n",
        "\n",
        "Abdullah_Ahmad_Badawi\n",
        "\n",
        "Abdullah_Gul\n",
        "\n",
        "Abdullah_Nasseef\n",
        "\n",
        "Abdullah_al-Attiyah\n",
        "\n",
        "Abdullatif_Sener\n",
        "\n",
        "Abel_Aguilar,Abel_Pacheco,Abid_Hamid_Mahmud_Al-Tikriti,Abner_Martinez,Abraham_Foxman,Aby_Har-Even \"\"\""
      ],
      "metadata": {
        "id": "Nmr4Xw6l3KOi"
      },
      "execution_count": null,
      "outputs": []
    },
    {
      "cell_type": "code",
      "source": [],
      "metadata": {
        "id": "5IMBH7DprRDa"
      },
      "execution_count": null,
      "outputs": []
    }
  ]
}